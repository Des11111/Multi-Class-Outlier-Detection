{
 "cells": [
  {
   "cell_type": "markdown",
   "id": "4e523732-1e02-4333-821f-09d37e84a94a",
   "metadata": {},
   "source": [
    "# Main Procedure\n"
   ]
  },
  {
   "cell_type": "markdown",
   "id": "41fb795d-5887-475c-bcd0-19489837f80a",
   "metadata": {},
   "source": [
    "### Setup"
   ]
  },
  {
   "cell_type": "code",
   "execution_count": 6,
   "id": "749604a2-5165-48d9-9528-51658f0581f1",
   "metadata": {},
   "outputs": [
    {
     "name": "stdout",
     "output_type": "stream",
     "text": [
      "The autoreload extension is already loaded. To reload it, use:\n",
      "  %reload_ext autoreload\n"
     ]
    }
   ],
   "source": [
    "# This helps when you're loading functions  defined in an external script (if the script is updated while the notebook is running)\n",
    "%load_ext autoreload \n",
    "%autoreload 2\n",
    "\n",
    "import numpy as np\n",
    "from sklearn.metrics import precision_score, recall_score\n",
    "from sklearn.model_selection import train_test_split\n",
    "import matplotlib.pyplot as plt\n",
    "from matplotlib import rcParams\n",
    "import seaborn as sns\n",
    "from sklearn.decomposition import PCA\n",
    "from math import sqrt\n",
    "from sklearn.preprocessing import StandardScaler\n",
    "from statsmodels.stats.multitest import multipletests\n",
    "import copy\n",
    "\n",
    "import sys\n",
    "sys.path.append(\"..\")\n",
    "\n",
    "from mypackage.data_models import generate_data_uniform_plus_normal\n",
    "from mypackage.PUL import compute_pu_scores, prepare_pu_score_matrices\n",
    "from mypackage.MAMCOD_procedure import compute_MAMCOD_conformal_pv, compute_fdr_power"
   ]
  },
  {
   "cell_type": "markdown",
   "id": "98d882e3",
   "metadata": {},
   "source": [
    "## Data Generation"
   ]
  },
  {
   "cell_type": "code",
   "execution_count": 7,
   "id": "8c082f3b",
   "metadata": {},
   "outputs": [],
   "source": [
    "np.random.seed(100)\n",
    "# Generate data\n",
    "K = 2\n",
    "dim = 50\n",
    "means = [-1, 1]\n",
    "radius = 4\n",
    "a_signal = 8\n",
    "\n",
    "# Training data\n",
    "n_in_train = [10000, 10000]\n",
    "\n",
    "# Calibration data (Here callibrariton data has no effect if not using conformal inference)\n",
    "n_in_cal = [1000, 1000]\n",
    "\n",
    "# Test data (Unlabeled Data)\n",
    "n_in_test = [900, 900]\n",
    "n_out_test = 200\n",
    "n_test = sum(n_in_test) + n_out_test\n",
    "\n",
    "# Data Generation\n",
    "X_train, Y_train = generate_data_uniform_plus_normal(K, n_in_train, 0, dim, means, radius, a_signal)\n",
    "X_cal, Y_cal = generate_data_uniform_plus_normal(K, n_in_cal, 0, dim, means, radius, a_signal)\n",
    "X_test, Y_test = generate_data_uniform_plus_normal(K, n_in_test, n_out_test, dim, means, radius, a_signal)"
   ]
  },
  {
   "cell_type": "markdown",
   "id": "64eb8a3b-b2f1-4356-a87e-a0d7b2cbf7a4",
   "metadata": {},
   "source": [
    "### Compute the MAMCOD p-values Using PU Learning"
   ]
  },
  {
   "cell_type": "code",
   "execution_count": 8,
   "id": "6523bdba-be16-40f6-a789-85e1f572d25d",
   "metadata": {},
   "outputs": [],
   "source": [
    "# Define machine learning models\n",
    "from sklearn.svm import SVC, OneClassSVM\n",
    "from sklearn.ensemble import RandomForestClassifier\n",
    "\n",
    "binary_classifier = SVC(C=1, probability=True)\n",
    "oneclass_classifier = OneClassSVM(gamma='auto')\n",
    "\n",
    "# Compute conformity scores\n",
    "scores_cal, scores_test,_ = compute_pu_scores(\n",
    "    K, X_train, Y_train, X_cal, Y_cal, X_test, binary_classifier,\n",
    "    oneclass_classifier= oneclass_classifier, multi_step=True)\n",
    "\n",
    "scores_cal_mat, scores_test_mat = prepare_pu_score_matrices(K, n_in_cal, n_test, scores_cal, scores_test)\n",
    "\n",
    "# Compute MAMCOD conformal p-values\n",
    "MAMCOD_pv = compute_MAMCOD_conformal_pv(K, n_in_cal, scores_cal_mat, scores_test_mat, is_high_score_inlier = False)"
   ]
  },
  {
   "cell_type": "markdown",
   "id": "41b1c37f-f9a6-44af-b9e7-3d69c62386fe",
   "metadata": {},
   "source": [
    "### Compute FDR and Power by BH procedure"
   ]
  },
  {
   "cell_type": "code",
   "execution_count": 9,
   "id": "034b8210-3cd9-44ef-82a5-4ab761084530",
   "metadata": {},
   "outputs": [
    {
     "name": "stdout",
     "output_type": "stream",
     "text": [
      "FDR: 0.09090909090909091\n",
      "Power: 1.0\n"
     ]
    }
   ],
   "source": [
    "fdr, power = compute_fdr_power(MAMCOD_pv, Y_test, alpha = 0.1)\n",
    "\n",
    "print(\"FDR:\", fdr)\n",
    "print(\"Power:\", power)"
   ]
  },
  {
   "cell_type": "markdown",
   "id": "780fb88a-d251-4c15-b0f5-6166e8b7849e",
   "metadata": {},
   "source": [
    "### Plot"
   ]
  },
  {
   "cell_type": "code",
   "execution_count": 10,
   "id": "cf420163",
   "metadata": {},
   "outputs": [
    {
     "data": {
      "image/png": "[encoded data removed]",
      "text/plain": [
       "<Figure size 1170x827 with 1 Axes>"
      ]
     },
     "metadata": {},
     "output_type": "display_data"
    }
   ],
   "source": [
    "# Plot the conformity scores\n",
    "rcParams['figure.figsize'] = 11.7,8.27\n",
    "\n",
    "sns.histplot(x=MAMCOD_pv, hue=Y_test, bins=70)\n",
    "plt.show()"
   ]
  },
  {
   "cell_type": "code",
   "execution_count": null,
   "id": "569ab837-f492-4d15-a3c3-a2fccb5dbab0",
   "metadata": {},
   "outputs": [],
   "source": []
  },
  {
   "cell_type": "code",
   "execution_count": null,
   "id": "b40220b0-8e41-4f8e-8be3-6d607b9e5f04",
   "metadata": {},
   "outputs": [],
   "source": []
  }
 ],
 "metadata": {
  "kernelspec": {
   "display_name": "Python 3 (ipykernel)",
   "language": "python",
   "name": "python3"
  },
  "language_info": {
   "codemirror_mode": {
    "name": "ipython",
    "version": 3
   },
   "file_extension": ".py",
   "mimetype": "text/x-python",
   "name": "python",
   "nbconvert_exporter": "python",
   "pygments_lexer": "ipython3",
   "version": "3.11.5"
  }
 },
 "nbformat": 4,
 "nbformat_minor": 5
}
