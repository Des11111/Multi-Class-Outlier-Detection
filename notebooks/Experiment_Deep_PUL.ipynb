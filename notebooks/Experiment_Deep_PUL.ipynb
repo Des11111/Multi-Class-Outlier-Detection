{
 "cells": [
  {
   "cell_type": "markdown",
   "id": "4e523732-1e02-4333-821f-09d37e84a94a",
   "metadata": {},
   "source": [
    "# A Small Experiment of Deep PU Learning\n",
    "\n",
    "This is to understanding how PU learning works in Multi-Class Outlier Detection cases\n"
   ]
  },
  {
   "cell_type": "markdown",
   "id": "41fb795d-5887-475c-bcd0-19489837f80a",
   "metadata": {},
   "source": [
    "### Setup"
   ]
  },
  {
   "cell_type": "code",
   "execution_count": 1,
   "id": "749604a2-5165-48d9-9528-51658f0581f1",
   "metadata": {},
   "outputs": [],
   "source": [
    "# This helps when you're loading functions  defined in an external script (if the script is updated while the notebook is running)\n",
    "%load_ext autoreload \n",
    "%autoreload 2\n",
    "\n",
    "import numpy as np\n",
    "from sklearn.metrics import precision_score, recall_score\n",
    "from sklearn.model_selection import train_test_split\n",
    "import matplotlib.pyplot as plt\n",
    "from matplotlib import rcParams\n",
    "import seaborn as sns\n",
    "from sklearn.decomposition import PCA\n",
    "from math import sqrt\n",
    "from sklearn.preprocessing import StandardScaler\n",
    "import copy\n",
    "from tensorflow.keras.models import Sequential\n",
    "from tensorflow.keras.layers import Dense, Dropout\n",
    "\n",
    "import sys\n",
    "sys.path.append(\"..\")\n",
    "\n",
    "from mypackage.data_models import generate_data_uniform_plus_normal\n",
    "from mypackage.Deep_PUL import compute_deep_pu_scores, compute_deep_pu_scores_intersection_two_step, train_deep_model"
   ]
  },
  {
   "cell_type": "markdown",
   "id": "98d882e3",
   "metadata": {},
   "source": [
    "## Data Generation"
   ]
  },
  {
   "cell_type": "code",
   "execution_count": 2,
   "id": "8c082f3b",
   "metadata": {},
   "outputs": [],
   "source": [
    "np.random.seed(42)\n",
    "# Generate data\n",
    "K = 3\n",
    "dim = 50\n",
    "means = [-1, 0, 1]\n",
    "radius = 4\n",
    "a_signal = 8\n",
    "\n",
    "# Training data\n",
    "n_in_train = [1000, 100, 100]\n",
    "\n",
    "# Calibration data (Here callibrariton data has no effect if not using conformal inference)\n",
    "n_in_cal = [1000, 1000, 1000]\n",
    "\n",
    "# Test data (Unlabeled Data)\n",
    "n_in_test = [90, 900, 90]\n",
    "n_out_test = 300\n",
    "\n",
    "# Data Generation\n",
    "X_train, Y_train = generate_data_uniform_plus_normal(K, n_in_train, 0, dim, means, radius, a_signal)\n",
    "X_cal, Y_cal = generate_data_uniform_plus_normal(K, n_in_cal, 0, dim, means, radius, a_signal)\n",
    "X_test_part1, Y_test_part1 = generate_data_uniform_plus_normal(K, n_in_test, n_out_test, dim, means, radius, a_signal)\n",
    "X_test_part2, Y_test_part2 = generate_data_uniform_plus_normal(K, n_in_test, n_out_test, dim, means, radius, a_signal)"
   ]
  },
  {
   "cell_type": "markdown",
   "id": "64eb8a3b-b2f1-4356-a87e-a0d7b2cbf7a4",
   "metadata": {},
   "source": [
    "### Three PU Learning Methods(One-Step, Two_Step, Intersection_Two_step)"
   ]
  },
  {
   "cell_type": "code",
   "execution_count": 3,
   "id": "9aca1563",
   "metadata": {},
   "outputs": [
    {
     "name": "stderr",
     "output_type": "stream",
     "text": [
      "C:\\Users\\86182\\AppData\\Roaming\\Python\\Python311\\site-packages\\keras\\src\\layers\\core\\dense.py:87: UserWarning: Do not pass an `input_shape`/`input_dim` argument to a layer. When using Sequential models, prefer using an `Input(shape)` object as the first layer in the model instead.\n",
      "  super().__init__(activity_regularizer=activity_regularizer, **kwargs)\n"
     ]
    },
    {
     "ename": "ValueError",
     "evalue": "Only input tensors may be passed as positional arguments. The following argument value should be passed as a keyword argument: 50 (of type <class 'int'>)",
     "output_type": "error",
     "traceback": [
      "\u001b[1;31m---------------------------------------------------------------------------\u001b[0m",
      "\u001b[1;31mValueError\u001b[0m                                Traceback (most recent call last)",
      "Cell \u001b[1;32mIn[3], line 12\u001b[0m\n\u001b[0;32m      9\u001b[0m deep_models \u001b[38;5;241m=\u001b[39m train_deep_model(input_dim \u001b[38;5;241m=\u001b[39m dim, X_train \u001b[38;5;241m=\u001b[39m X_train, y_train \u001b[38;5;241m=\u001b[39m Y_train, epochs\u001b[38;5;241m=\u001b[39m\u001b[38;5;241m10\u001b[39m, batch_size\u001b[38;5;241m=\u001b[39m\u001b[38;5;241m32\u001b[39m)\n\u001b[0;32m     11\u001b[0m \u001b[38;5;66;03m# Compute conformity scores\u001b[39;00m\n\u001b[1;32m---> 12\u001b[0m scores_cal, scores_test \u001b[38;5;241m=\u001b[39m \u001b[43mcompute_deep_pu_scores\u001b[49m\u001b[43m(\u001b[49m\u001b[43mK\u001b[49m\u001b[43m,\u001b[49m\u001b[43m \u001b[49m\u001b[43mdim\u001b[49m\u001b[43m,\u001b[49m\u001b[43m \u001b[49m\u001b[43mX_train\u001b[49m\u001b[43m,\u001b[49m\u001b[43m \u001b[49m\u001b[43mY_train\u001b[49m\u001b[43m,\u001b[49m\u001b[43m \u001b[49m\u001b[43mX_cal\u001b[49m\u001b[43m,\u001b[49m\u001b[43m \u001b[49m\u001b[43mY_cal\u001b[49m\u001b[43m,\u001b[49m\u001b[43m \u001b[49m\u001b[43mX_test_part1\u001b[49m\u001b[43m,\u001b[49m\u001b[43m \u001b[49m\u001b[43mX_test_part2\u001b[49m\u001b[43m,\u001b[49m\u001b[43m \u001b[49m\n\u001b[0;32m     13\u001b[0m \u001b[43m                                                 \u001b[49m\u001b[43mtrain_model_fn\u001b[49m\u001b[43m \u001b[49m\u001b[38;5;241;43m=\u001b[39;49m\u001b[43m \u001b[49m\u001b[43mdeep_models\u001b[49m\u001b[43m,\u001b[49m\u001b[43m \u001b[49m\u001b[43mtwo_step\u001b[49m\u001b[38;5;241;43m=\u001b[39;49m\u001b[38;5;28;43;01mFalse\u001b[39;49;00m\u001b[43m,\u001b[49m\u001b[43m \u001b[49m\u001b[43moneclass_classifier\u001b[49m\u001b[38;5;241;43m=\u001b[39;49m\u001b[43moneclass_classifier\u001b[49m\u001b[43m)\u001b[49m\n\u001b[0;32m     15\u001b[0m scores_cal_two_step, scores_test_two_step \u001b[38;5;241m=\u001b[39m compute_deep_pu_scores(K, dim, X_train, Y_train, X_cal, Y_cal, X_test_part1, X_test_part2, \n\u001b[0;32m     16\u001b[0m                                                                    train_model_fn \u001b[38;5;241m=\u001b[39m deep_models, two_step\u001b[38;5;241m=\u001b[39m\u001b[38;5;28;01mTrue\u001b[39;00m, oneclass_classifier\u001b[38;5;241m=\u001b[39moneclass_classifier)\n\u001b[0;32m     18\u001b[0m scores_cal_intersection, scores_test_intersection \u001b[38;5;241m=\u001b[39m compute_deep_pu_scores_intersection_two_step(K, dim, X_train, Y_train, X_cal, Y_cal, \n\u001b[0;32m     19\u001b[0m                                                                                                   X_test_part1, X_test_part2, \n\u001b[0;32m     20\u001b[0m                                                                                                   binary_classifier, oneclass_classifier, \n\u001b[0;32m     21\u001b[0m                                                                                                   deep_learning\u001b[38;5;241m=\u001b[39m\u001b[38;5;28;01mTrue\u001b[39;00m)\n",
      "File \u001b[1;32mD:\\Study\\University\\Research\\MCC\\MPU\\Code\\notebooks\\..\\mypackage\\Deep_PUL.py:62\u001b[0m, in \u001b[0;36mcompute_deep_pu_scores\u001b[1;34m(K, dim, X_train, Y_train, X_cal, Y_cal, X_test_part1, X_test_part2, train_model_fn, two_step, oneclass_classifier)\u001b[0m\n\u001b[0;32m     59\u001b[0m     y_combined \u001b[38;5;241m=\u001b[39m np\u001b[38;5;241m.\u001b[39mhstack((np\u001b[38;5;241m.\u001b[39mzeros(\u001b[38;5;28mlen\u001b[39m(X_train_scaled)), np\u001b[38;5;241m.\u001b[39mones(\u001b[38;5;28mlen\u001b[39m(X_test_part1_scaled))))\n\u001b[0;32m     61\u001b[0m \u001b[38;5;66;03m# Step 2: Train the model on the combined data using the provided train_model_fn\u001b[39;00m\n\u001b[1;32m---> 62\u001b[0m model \u001b[38;5;241m=\u001b[39m \u001b[43mtrain_model_fn\u001b[49m\u001b[43m(\u001b[49m\u001b[43mdim\u001b[49m\u001b[43m,\u001b[49m\u001b[43m \u001b[49m\u001b[43mX_combined\u001b[49m\u001b[43m,\u001b[49m\u001b[43m \u001b[49m\u001b[43my_combined\u001b[49m\u001b[43m)\u001b[49m\n\u001b[0;32m     64\u001b[0m \u001b[38;5;66;03m# After fitting the model, predict probabilities\u001b[39;00m\n\u001b[0;32m     65\u001b[0m scores_cal \u001b[38;5;241m=\u001b[39m model\u001b[38;5;241m.\u001b[39mpredict(X_cal_scaled)\n",
      "File \u001b[1;32m~\\AppData\\Roaming\\Python\\Python311\\site-packages\\keras\\src\\utils\\traceback_utils.py:122\u001b[0m, in \u001b[0;36mfilter_traceback.<locals>.error_handler\u001b[1;34m(*args, **kwargs)\u001b[0m\n\u001b[0;32m    119\u001b[0m     filtered_tb \u001b[38;5;241m=\u001b[39m _process_traceback_frames(e\u001b[38;5;241m.\u001b[39m__traceback__)\n\u001b[0;32m    120\u001b[0m     \u001b[38;5;66;03m# To get the full stack trace, call:\u001b[39;00m\n\u001b[0;32m    121\u001b[0m     \u001b[38;5;66;03m# `keras.config.disable_traceback_filtering()`\u001b[39;00m\n\u001b[1;32m--> 122\u001b[0m     \u001b[38;5;28;01mraise\u001b[39;00m e\u001b[38;5;241m.\u001b[39mwith_traceback(filtered_tb) \u001b[38;5;28;01mfrom\u001b[39;00m \u001b[38;5;28;01mNone\u001b[39;00m\n\u001b[0;32m    123\u001b[0m \u001b[38;5;28;01mfinally\u001b[39;00m:\n\u001b[0;32m    124\u001b[0m     \u001b[38;5;28;01mdel\u001b[39;00m filtered_tb\n",
      "File \u001b[1;32m~\\AppData\\Roaming\\Python\\Python311\\site-packages\\keras\\src\\layers\\layer.py:789\u001b[0m, in \u001b[0;36mLayer.__call__\u001b[1;34m(self, *args, **kwargs)\u001b[0m\n\u001b[0;32m    783\u001b[0m     \u001b[38;5;28;01mfor\u001b[39;00m arg \u001b[38;5;129;01min\u001b[39;00m tree\u001b[38;5;241m.\u001b[39mflatten(args):\n\u001b[0;32m    784\u001b[0m         \u001b[38;5;28;01mif\u001b[39;00m (\n\u001b[0;32m    785\u001b[0m             \u001b[38;5;129;01mnot\u001b[39;00m \u001b[38;5;28misinstance\u001b[39m(arg, KerasTensor)\n\u001b[0;32m    786\u001b[0m             \u001b[38;5;129;01mand\u001b[39;00m \u001b[38;5;129;01mnot\u001b[39;00m backend\u001b[38;5;241m.\u001b[39mis_tensor(arg)\n\u001b[0;32m    787\u001b[0m             \u001b[38;5;129;01mand\u001b[39;00m arg \u001b[38;5;129;01mis\u001b[39;00m \u001b[38;5;129;01mnot\u001b[39;00m \u001b[38;5;28;01mNone\u001b[39;00m\n\u001b[0;32m    788\u001b[0m         ):\n\u001b[1;32m--> 789\u001b[0m             \u001b[38;5;28;01mraise\u001b[39;00m \u001b[38;5;167;01mValueError\u001b[39;00m(\n\u001b[0;32m    790\u001b[0m                 \u001b[38;5;124m\"\u001b[39m\u001b[38;5;124mOnly input tensors may be passed as \u001b[39m\u001b[38;5;124m\"\u001b[39m\n\u001b[0;32m    791\u001b[0m                 \u001b[38;5;124m\"\u001b[39m\u001b[38;5;124mpositional arguments. The following argument value \u001b[39m\u001b[38;5;124m\"\u001b[39m\n\u001b[0;32m    792\u001b[0m                 \u001b[38;5;124mf\u001b[39m\u001b[38;5;124m\"\u001b[39m\u001b[38;5;124mshould be passed as a keyword argument: \u001b[39m\u001b[38;5;132;01m{\u001b[39;00marg\u001b[38;5;132;01m}\u001b[39;00m\u001b[38;5;124m \u001b[39m\u001b[38;5;124m\"\u001b[39m\n\u001b[0;32m    793\u001b[0m                 \u001b[38;5;124mf\u001b[39m\u001b[38;5;124m\"\u001b[39m\u001b[38;5;124m(of type \u001b[39m\u001b[38;5;132;01m{\u001b[39;00m\u001b[38;5;28mtype\u001b[39m(arg)\u001b[38;5;132;01m}\u001b[39;00m\u001b[38;5;124m)\u001b[39m\u001b[38;5;124m\"\u001b[39m\n\u001b[0;32m    794\u001b[0m             )\n\u001b[0;32m    796\u001b[0m \u001b[38;5;66;03m# Caches info about `call()` signature, args, kwargs.\u001b[39;00m\n\u001b[0;32m    797\u001b[0m call_spec \u001b[38;5;241m=\u001b[39m CallSpec(\u001b[38;5;28mself\u001b[39m\u001b[38;5;241m.\u001b[39m_call_signature, args, kwargs)\n",
      "\u001b[1;31mValueError\u001b[0m: Only input tensors may be passed as positional arguments. The following argument value should be passed as a keyword argument: 50 (of type <class 'int'>)"
     ]
    }
   ],
   "source": [
    "# Define machine learning models\n",
    "from sklearn.svm import SVC, OneClassSVM\n",
    "from sklearn.ensemble import RandomForestClassifier\n",
    "\n",
    "binary_classifier = SVC(C=1, probability=True)\n",
    "oneclass_classifier = OneClassSVM(gamma='auto')\n",
    "\n",
    "# Define Deep learning models\n",
    "deep_models = train_deep_model(input_dim = dim, X_train = X_train, y_train = Y_train, epochs=10, batch_size=32)\n",
    "\n",
    "# Compute conformity scores\n",
    "scores_cal, scores_test = compute_deep_pu_scores(K, dim, X_train, Y_train, X_cal, Y_cal, X_test_part1, X_test_part2, \n",
    "                                                 train_model_fn = deep_models, two_step=False, oneclass_classifier=oneclass_classifier)\n",
    "\n",
    "scores_cal_two_step, scores_test_two_step = compute_deep_pu_scores(K, dim, X_train, Y_train, X_cal, Y_cal, X_test_part1, X_test_part2, \n",
    "                                                                   train_model_fn = deep_models, two_step=True, oneclass_classifier=oneclass_classifier)\n",
    "\n",
    "scores_cal_intersection, scores_test_intersection = compute_deep_pu_scores_intersection_two_step(K, dim, X_train, Y_train, X_cal, Y_cal, \n",
    "                                                                                                  X_test_part1, X_test_part2, \n",
    "                                                                                                  binary_classifier, oneclass_classifier, \n",
    "                                                                                                  deep_learning=True)"
   ]
  },
  {
   "cell_type": "code",
   "execution_count": 4,
   "id": "318c6d8f-9fd3-45d7-aaef-25da9026ff09",
   "metadata": {},
   "outputs": [
    {
     "data": {
      "text/plain": [
       "<Sequential name=sequential, built=True>"
      ]
     },
     "execution_count": 4,
     "metadata": {},
     "output_type": "execute_result"
    }
   ],
   "source": [
    "deep_models\n"
   ]
  },
  {
   "cell_type": "markdown",
   "id": "780fb88a-d251-4c15-b0f5-6166e8b7849e",
   "metadata": {},
   "source": [
    "### Plot"
   ]
  },
  {
   "cell_type": "code",
   "execution_count": null,
   "id": "cf420163",
   "metadata": {},
   "outputs": [],
   "source": [
    "# Check and flatten the arrays if necessary\n",
    "scores_test = np.ravel(scores_test)\n",
    "scores_test_two_step = np.ravel(scores_test_two_step)\n",
    "scores_test_intersection = np.ravel(scores_test_intersection)\n",
    "Y_test_part2 = np.ravel(Y_test_part2)\n",
    "\n",
    "# Plot the conformity scores\n",
    "rcParams['figure.figsize'] = 11.7,8.27\n",
    "\n",
    "sns.histplot(x=scores_test, hue=Y_test_part2, bins=50)\n",
    "plt.show()\n",
    "\n",
    "sns.histplot(x=scores_test_two_step, hue=Y_test_part2, bins=50)\n",
    "plt.show()\n",
    "\n",
    "sns.histplot(x=scores_test_intersection, hue=Y_test_part2, bins=50)\n",
    "plt.show()"
   ]
  },
  {
   "cell_type": "code",
   "execution_count": null,
   "id": "c6aa70e3-e100-4ed9-82ea-217254dc1256",
   "metadata": {},
   "outputs": [],
   "source": []
  }
 ],
 "metadata": {
  "kernelspec": {
   "display_name": "Python 3 (ipykernel)",
   "language": "python",
   "name": "python3"
  },
  "language_info": {
   "codemirror_mode": {
    "name": "ipython",
    "version": 3
   },
   "file_extension": ".py",
   "mimetype": "text/x-python",
   "name": "python",
   "nbconvert_exporter": "python",
   "pygments_lexer": "ipython3",
   "version": "3.11.5"
  }
 },
 "nbformat": 4,
 "nbformat_minor": 5
}
