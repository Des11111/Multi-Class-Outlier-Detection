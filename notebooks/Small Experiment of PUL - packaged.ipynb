{
 "cells": [
  {
   "cell_type": "markdown",
   "id": "4e523732-1e02-4333-821f-09d37e84a94a",
   "metadata": {},
   "source": [
    "# A Small Experiment of PU Learning\n",
    "\n",
    "This is to understanding how PU learning works in Multi-Class Outlier Detection cases\n"
   ]
  },
  {
   "cell_type": "markdown",
   "id": "41fb795d-5887-475c-bcd0-19489837f80a",
   "metadata": {},
   "source": [
    "### Setup"
   ]
  },
  {
   "cell_type": "code",
   "execution_count": 129,
   "id": "749604a2-5165-48d9-9528-51658f0581f1",
   "metadata": {},
   "outputs": [
    {
     "name": "stdout",
     "output_type": "stream",
     "text": [
      "The autoreload extension is already loaded. To reload it, use:\n",
      "  %reload_ext autoreload\n"
     ]
    }
   ],
   "source": [
    "# This helps when you're loading functions defined in an external script (if the script is updated while the notebook is running)\n",
    "%load_ext autoreload \n",
    "%autoreload 2\n",
    "\n",
    "import numpy as np\n",
    "from sklearn.metrics import precision_score, recall_score\n",
    "from sklearn.model_selection import train_test_split\n",
    "import matplotlib.pyplot as plt\n",
    "from matplotlib import rcParams\n",
    "import seaborn as sns\n",
    "from sklearn.decomposition import PCA\n",
    "from math import sqrt\n",
    "from sklearn.preprocessing import StandardScaler\n",
    "\n",
    "import sys\n",
    "sys.path.append(\"..\")\n",
    "\n",
    "from mypackage.data_models import generate_data_uniform_plus_normal \n",
    "from mypackage.learning import compute_pu_scores, compute_pu_scores_multiclass"
   ]
  },
  {
   "cell_type": "markdown",
   "id": "98d882e3",
   "metadata": {},
   "source": [
    "## New code"
   ]
  },
  {
   "cell_type": "code",
   "execution_count": 142,
   "id": "8c082f3b",
   "metadata": {},
   "outputs": [],
   "source": [
    "np.random.seed(42)\n",
    "# Generate data\n",
    "dim = 50\n",
    "mean_c1 = 1\n",
    "mean_c2 = -1\n",
    "radius=4\n",
    "a_signal=8\n",
    "\n",
    "# Training data\n",
    "n_in_1_train = 1000\n",
    "n_in_2_train = 100\n",
    "\n",
    "# Calibration data\n",
    "n_in_1_cal = 1000\n",
    "n_in_2_cal = 100\n",
    "\n",
    "# Test data\n",
    "n_in_1_test = 10\n",
    "n_in_2_test = 1000\n",
    "n_out_test = 100\n",
    "\n",
    "X_train, Y_train = generate_data_uniform_plus_normal(n_in_1_train, n_in_2_train, 0, dim=dim, mean_c1=mean_c1, mean_c2=mean_c2, radius=radius, a_signal=a_signal)\n",
    "X_cal, Y_cal = generate_data_uniform_plus_normal(n_in_1_cal, n_in_2_cal, 0, dim=dim, mean_c1=mean_c1, mean_c2=mean_c2, radius=radius, a_signal=a_signal)\n",
    "X_test, Y_test = generate_data_uniform_plus_normal(n_in_1_test, n_in_2_test, n_out_test, dim=dim, mean_c1=mean_c1, mean_c2=mean_c2, radius=radius, a_signal=a_signal)"
   ]
  },
  {
   "cell_type": "code",
   "execution_count": 143,
   "id": "9aca1563",
   "metadata": {},
   "outputs": [],
   "source": [
    "# Define machine learning models\n",
    "from sklearn.svm import SVC, OneClassSVM\n",
    "from sklearn.ensemble import RandomForestClassifier\n",
    "\n",
    "binary_classifier = SVC(C=1, probability=True)\n",
    "oneclass_classifier = OneClassSVM(gamma='auto')\n",
    "\n",
    "# Compute conformity scores\n",
    "scores_cal_1, scores_test_1 = compute_pu_scores(X_train, Y_train, X_cal, Y_cal, X_test, binary_classifier, two_step=True, oneclass_classifier = oneclass_classifier)\n",
    "scores_cal_2, scores_test_2 = compute_pu_scores_multiclass(X_train, Y_train, X_cal, Y_cal, X_test, binary_classifier, oneclass_classifier)"
   ]
  },
  {
   "cell_type": "code",
   "execution_count": 144,
   "id": "cf420163",
   "metadata": {},
   "outputs": [
    {
     "data": {
      "image/png": "[encoded data removed]",
      "text/plain": [
       "<Figure size 842.4x595.44 with 1 Axes>"
      ]
     },
     "metadata": {},
     "output_type": "display_data"
    },
    {
     "data": {
      "image/png": "[encoded data removed]",
      "text/plain": [
       "<Figure size 842.4x595.44 with 1 Axes>"
      ]
     },
     "metadata": {},
     "output_type": "display_data"
    }
   ],
   "source": [
    "# Plot the conformity scores\n",
    "rcParams['figure.figsize'] = 11.7,8.27\n",
    "\n",
    "sns.histplot(x=scores_test_1, hue=Y_test, bins=50)\n",
    "plt.show()\n",
    "\n",
    "sns.histplot(x=scores_test_2, hue=Y_test, bins=50)\n",
    "plt.show()"
   ]
  },
  {
   "cell_type": "markdown",
   "id": "5faf7a7a",
   "metadata": {},
   "source": [
    "## Old code"
   ]
  },
  {
   "cell_type": "markdown",
   "id": "4b225c3a-ad4f-4b1f-960e-4e52b3b3de1d",
   "metadata": {},
   "source": [
    "### Data generation and visualization\n",
    "Remarks: the data generation is just the same as I did last semester in the conformal inference cases"
   ]
  },
  {
   "cell_type": "code",
   "execution_count": null,
   "id": "fae523cc-2a78-45bb-8e74-d63d22059835",
   "metadata": {},
   "outputs": [],
   "source": [
    "np.random.seed(42)\n",
    "# Generate data\n",
    "dim = 50\n",
    "mean_c1 = 1\n",
    "mean_c2 = -1\n",
    "radius = 4\n",
    "a_signal = sqrt(64)\n",
    "\n",
    "inliers_type1 = np.random.uniform(low=mean_c1 - radius, high=mean_c1 + radius, size=(50000, dim)) \\\n",
    "                + np.random.normal(loc=0, scale=1, size=(50000, dim))\n",
    "inliers_type2 = np.random.uniform(low=mean_c2 - radius, high=mean_c2 + radius, size=(50000, dim)) \\\n",
    "                + np.random.normal(loc=0, scale=1, size=(50000, dim))\n",
    "\n",
    "outlier_c1 = np.random.uniform(low=mean_c1 - radius, high=mean_c1 + radius, size=(25000, dim)) \\\n",
    "                       + a_signal * np.random.normal(loc=0, scale=1, size=(25000, dim))\n",
    "outlier_c2 = np.random.uniform(low=mean_c2 - radius, high=mean_c2 + radius, size=(25000, dim)) \\\n",
    "                       + a_signal * np.random.normal(loc=0, scale=1, size=(25000, dim))\n",
    "outliers = np.vstack((outlier_c1,outlier_c2))\n",
    "\n",
    "# Perform PCA to reduce to 2 dimensions for visualization\n",
    "pca = PCA(n_components=2)\n",
    "inliers_type1_pca = pca.fit_transform(inliers_type1)\n",
    "inliers_type2_pca = pca.fit_transform(inliers_type2)\n",
    "outliers_pca = pca.fit_transform(outliers)\n",
    "\n",
    "# Plot the distributions\n",
    "plt.figure(figsize=(12, 6))\n",
    "plt.scatter(inliers_type1_pca[:1000, 0], inliers_type1_pca[:1000, 1], label='Inliers Type 1', alpha=0.5)\n",
    "plt.scatter(inliers_type2_pca[:1000, 0], inliers_type2_pca[:1000, 1], label='Inliers Type 2', alpha=0.5)\n",
    "plt.scatter(outliers_pca[:1000, 0], outliers_pca[:1000, 1], label='Outliers', alpha=0.5)\n",
    "plt.xlabel('PCA Component 1')\n",
    "plt.ylabel('PCA Component 2')\n",
    "plt.legend()\n",
    "plt.title('Data Distributions After PCA')\n",
    "plt.grid(True)\n",
    "plt.show()"
   ]
  },
  {
   "cell_type": "markdown",
   "id": "592f3520-adb5-4af4-acf4-b581f3feeb67",
   "metadata": {},
   "source": [
    "### A standard two-step PU learning procedure function\n",
    "this is a standard two step PU learning procedure dealing with guassian distributions, it contains the following steps:\n",
    "1. Generate datas with three different distributions, namely type1_inliers, type2_inliers, outliers\n",
    "2. Train a one class SVM on the positive training data, apply this SVM to a subset of unlabeled data, choose 10% reliable negative samples\n",
    "3. Train a binary SVM on the positive training data and the reliable negative samples, apply this SVM to unlabeled test data and get the 10% samples as negative(outlier)"
   ]
  },
  {
   "cell_type": "code",
   "execution_count": null,
   "id": "4d03c011-4b9b-432d-b156-6a1e8cc16bd5",
   "metadata": {},
   "outputs": [],
   "source": [
    "# Function to run the PU learning procedure\n",
    "def run_pu_learning(n, prop_type1_train, prop_type2_train, prop_type1_unlabeled, prop_type2_unlabeled,\n",
    "                    prop_outliers_unlabeled):\n",
    "    # Results storage\n",
    "    results = []\n",
    "    proportions_within_predictions = []\n",
    "    proportions_reliable_negatives = []\n",
    "\n",
    "    for _ in range(n):\n",
    "        iteration = _\n",
    "        # Sample 1000 data points for training\n",
    "        X_train_pos1, X_test_inliers1, _, _ = train_test_split(inliers_type1, np.zeros(50000),\n",
    "                                                               train_size=int(2000 * prop_type1_train),\n",
    "                                                               test_size=int(1000 * 2 * prop_type1_unlabeled))\n",
    "        X_train_pos2, X_test_inliers2, _, _ = train_test_split(inliers_type2, np.zeros(50000),\n",
    "                                                               train_size=int(2000 * prop_type2_train),\n",
    "                                                               test_size=int(1000 * 2 * prop_type2_unlabeled))\n",
    "        X_train = np.vstack((X_train_pos1, X_train_pos2))\n",
    "\n",
    "        # Ensure balanced representation of inliers in unlabeled data\n",
    "        X_unlabeled_inliers1, X_test_pos1, _, _ = train_test_split(X_test_inliers1,\n",
    "                                                                   np.zeros(int(1000 * 2 * prop_type1_unlabeled)),\n",
    "                                                                   train_size=int(1000 * prop_type1_unlabeled),\n",
    "                                                                   test_size=int(1000 * prop_type1_unlabeled))\n",
    "        X_unlabeled_inliers2, X_test_pos2, _, _ = train_test_split(X_test_inliers2,\n",
    "                                                                   np.zeros(int(1000 * 2 * prop_type2_unlabeled)),\n",
    "                                                                   train_size=int(1000 * prop_type2_unlabeled),\n",
    "                                                                   test_size=int(1000 * prop_type2_unlabeled))\n",
    "        X_unlabeled_outliers, X_test_neg, _, _ = train_test_split(outliers, np.zeros(50000),\n",
    "                                                                  train_size=int(1000 * prop_outliers_unlabeled),\n",
    "                                                                  test_size=int(1000 * prop_outliers_unlabeled))\n",
    "        X_unlabeled = np.vstack((X_unlabeled_inliers1, X_unlabeled_inliers2, X_unlabeled_outliers))\n",
    "\n",
    "        # Combine testing data\n",
    "        X_test = np.vstack((X_test_pos1, X_test_pos2, X_test_neg))\n",
    "        y_test = np.hstack((np.zeros(len(X_test_pos1) + len(X_test_pos2)), np.ones(len(X_test_neg))))\n",
    "\n",
    "        scaler = StandardScaler()\n",
    "        X_train_scaled = scaler.fit_transform(X_train)\n",
    "        X_unlabeled_scaled = scaler.transform(X_unlabeled)\n",
    "        X_test_scaled = scaler.transform(X_test)\n",
    "\n",
    "        # Step 1: Train a one-class SVM on positive samples\n",
    "        one_class_svm = OneClassSVM(gamma='auto').fit(X_train_scaled)\n",
    "\n",
    "        # Apply the one-class SVM to the unlabeled data\n",
    "        pred_unlabeled = one_class_svm.predict(X_unlabeled_scaled)\n",
    "        reliable_negatives_idx = np.where(pred_unlabeled == -1)[0]  # Select reliable negatives\n",
    "        X_reliable_negatives = X_unlabeled_scaled[reliable_negatives_idx]\n",
    "\n",
    "        # Combine the positive samples with reliable negatives\n",
    "        X_combined = np.vstack((X_train_scaled, X_reliable_negatives))\n",
    "        y_combined = np.hstack((np.zeros(len(X_train_scaled)), np.ones(len(X_reliable_negatives))))\n",
    "\n",
    "        # Step 2: Train a binary classifier on the selected positives and reliable negatives\n",
    "        final_clf = SVC(probability=True)\n",
    "        final_clf.fit(X_combined, y_combined)\n",
    "\n",
    "        # After fitting final_clf, predict probabilities\n",
    "        predictions_prob = final_clf.predict_proba(X_test_scaled)\n",
    "\n",
    "        # Adjust the threshold to achieve 50% predictions as 1\n",
    "        predictions = (predictions_prob[:, 1] >= 0.5).astype(int)\n",
    "\n",
    "        # Calculate FDR and Power\n",
    "        false_positives = np.sum((predictions == 1) & (y_test == 0))\n",
    "        true_positives = np.sum((predictions == 1) & (y_test == 1))\n",
    "        total_predictions = np.sum(predictions == 1)\n",
    "\n",
    "        fdr = false_positives / total_predictions if total_predictions > 0 else 0\n",
    "        power = true_positives / np.sum(y_test == 1) if np.sum(y_test == 1) > 0 else 0\n",
    "\n",
    "        print(f\"Iteration {iteration}\")\n",
    "        print(f\"prop_type1_train:  {prop_type1_train}\")\n",
    "        print(f\"prop_type1_unlabeled:  {prop_type1_unlabeled}\")\n",
    "        print(f\"fdr:  {fdr}\")\n",
    "        print(f\"power: {power}\")\n",
    "\n",
    "        # Calculate proportions of type1, type2 inliers and outliers within predictions = 1\n",
    "        type1_pred = np.sum(predictions[:len(X_test_pos1)] == 1)\n",
    "        type2_pred = np.sum(predictions[len(X_test_pos1):len(X_test_pos1) + len(X_test_pos2)] == 1)\n",
    "        outliers_pred = np.sum(predictions[len(X_test_pos1) + len(X_test_pos2):] == 1)\n",
    "\n",
    "        total_pred = type1_pred + type2_pred + outliers_pred\n",
    "        prop_type1_pred = type1_pred / total_pred if total_pred > 0 else 0\n",
    "        prop_type2_pred = type2_pred / total_pred if total_pred > 0 else 0\n",
    "        prop_outliers_pred = outliers_pred / total_pred if total_pred > 0 else 0\n",
    "\n",
    "        proportions_within_predictions.append((prop_type1_pred, prop_type2_pred, prop_outliers_pred))\n",
    "\n",
    "        results.append((fdr, power))\n",
    "\n",
    "    return results, proportions_within_predictions\n"
   ]
  },
  {
   "cell_type": "markdown",
   "id": "64768829-178d-4925-9637-517cfe5dfe30",
   "metadata": {},
   "source": [
    "### Change the proportion of type1 data in both positive set and unlabeled set"
   ]
  },
  {
   "cell_type": "code",
   "execution_count": null,
   "id": "15bdb3e3-d829-40ce-8995-473d8d263bdb",
   "metadata": {},
   "outputs": [],
   "source": [
    "# Parameters\n",
    "n = 20  # Number of iterations\n",
    "prop_type1_train_values = [0.01, 0.05, 0.1, 0.2, 0.3, 0.4, 0.5, 0.6, 0.7, 0.8, 0.9, 0.95, 0.99]\n",
    "prop_type1_unlabeled_values = [0.5, 0.95, 0.99]  # Only extreme conditions\n",
    "prop_outliers = 0.1\n",
    "\n",
    "# Adjusted proportion combinations\n",
    "proportion_combinations = []\n",
    "for p1_train in prop_type1_train_values:\n",
    "    for p1_unlabeled in prop_type1_unlabeled_values:\n",
    "        p2_train = 1 - p1_train\n",
    "        p2_unlabeled = 1 - p1_unlabeled\n",
    "\n",
    "        proportion_combinations.append((p1_train, p2_train, p1_unlabeled, p2_unlabeled, prop_outliers))"
   ]
  },
  {
   "cell_type": "code",
   "execution_count": null,
   "id": "6b0d6533-f5ad-4176-811d-9c3a29cd7f59",
   "metadata": {
    "jupyter": {
     "outputs_hidden": true
    },
    "scrolled": true
   },
   "outputs": [],
   "source": [
    "# Run the PU learning procedure for each combination of proportions\n",
    "all_results = {}\n",
    "all_proportions = {}\n",
    "for props in proportion_combinations:\n",
    "    prop_type1_train, prop_type2_train, prop_type1_unlabeled, prop_type2_unlabeled, prop_outliers_unlabeled = props\n",
    "    results, proportions_within_predictions = run_pu_learning(n, prop_type1_train, prop_type2_train,\n",
    "                                                              prop_type1_unlabeled, prop_type2_unlabeled,\n",
    "                                                              prop_outliers_unlabeled)\n",
    "    all_results[props] = results\n",
    "    all_proportions[props] = proportions_within_predictions"
   ]
  },
  {
   "cell_type": "markdown",
   "id": "d84f8001-3d8f-4a55-af44-4dcd669dcd47",
   "metadata": {},
   "source": [
    "### Plot"
   ]
  },
  {
   "cell_type": "code",
   "execution_count": null,
   "id": "d7c4c705-1b2d-4927-a3af-8b3c81cb64cc",
   "metadata": {},
   "outputs": [],
   "source": [
    "# Prepare data for plotting\n",
    "fdr_means = []\n",
    "power_means = []\n",
    "fdr_stds = []\n",
    "power_stds = []\n",
    "proportion_labels = []\n",
    "prop_type1_preds = []\n",
    "prop_type2_preds = []\n",
    "prop_outliers_preds = []\n",
    "\n",
    "for props, results in all_results.items():\n",
    "    fdrs, powers = zip(*results)\n",
    "    fdr_means.append(np.mean(fdrs))\n",
    "    power_means.append(np.mean(powers))\n",
    "    fdr_stds.append(np.std(fdrs) / sqrt(n))\n",
    "    power_stds.append(np.std(powers) / sqrt(n))\n",
    "    proportion_labels.append((props[0], props[2]))  # Using prop_type1_train and prop_type1_unlabeled for x-axis\n",
    "\n",
    "    type1_props, type2_props, outlier_props = zip(*all_proportions[props])\n",
    "    prop_type1_preds.append(np.mean(type1_props))\n",
    "    prop_type2_preds.append(np.mean(type2_props))\n",
    "    prop_outliers_preds.append(np.mean(outlier_props))"
   ]
  },
  {
   "cell_type": "code",
   "execution_count": null,
   "id": "c7017870-a8c6-4421-919d-6cf22e10771b",
   "metadata": {},
   "outputs": [],
   "source": [
    "# Plot the results in a 3x3 grid\n",
    "fig, axes = plt.subplots(3, 3, figsize=(21, 24))\n",
    "\n",
    "for i, p1_unlabeled in enumerate(prop_type1_unlabeled_values):\n",
    "    # Filter results for the current prop_type1_unlabeled value\n",
    "    fdr_means_subset = [fdr_means[j] for j, props in enumerate(proportion_combinations) if props[2] == p1_unlabeled]\n",
    "    power_means_subset = [power_means[j] for j, props in enumerate(proportion_combinations) if props[2] == p1_unlabeled]\n",
    "    fdr_stds_subset = [fdr_stds[j] for j, props in enumerate(proportion_combinations) if props[2] == p1_unlabeled]\n",
    "    power_stds_subset = [power_stds[j] for j, props in enumerate(proportion_combinations) if props[2] == p1_unlabeled]\n",
    "\n",
    "    prop_type1_preds_subset = [prop_type1_preds[j] for j, props in enumerate(proportion_combinations) if\n",
    "                               props[2] == p1_unlabeled]\n",
    "    prop_type2_preds_subset = [prop_type2_preds[j] for j, props in enumerate(proportion_combinations) if\n",
    "                               props[2] == p1_unlabeled]\n",
    "    prop_outliers_preds_subset = [prop_outliers_preds[j] for j, props in enumerate(proportion_combinations) if\n",
    "                                  props[2] == p1_unlabeled]\n",
    "\n",
    "    # Plot FDR\n",
    "    ax = axes[0, i]\n",
    "    ax.errorbar(range(len(fdr_means_subset)), fdr_means_subset, yerr=fdr_stds_subset, fmt='o', linestyle='--',\n",
    "                label='FDR')\n",
    "    ax.set_xticks(range(len(fdr_means_subset)))\n",
    "    ax.set_xticklabels([f\"{props[0]}\" for j, props in enumerate(proportion_combinations) if props[2] == p1_unlabeled],\n",
    "                       rotation=45)\n",
    "    ax.set_xlabel('Proportion of Type 1 in Positive Training Data')\n",
    "    ax.set_ylabel('FDR')\n",
    "    ax.set_title(f'FDR (prop_type1_unlabeled = {p1_unlabeled})')\n",
    "    ax.grid(True)\n",
    "\n",
    "    # Plot Power\n",
    "    ax = axes[1, i]\n",
    "    ax.errorbar(range(len(power_means_subset)), power_means_subset, yerr=power_stds_subset, fmt='o', linestyle='--',\n",
    "                label='Power')\n",
    "    ax.set_xticks(range(len(power_means_subset)))\n",
    "    ax.set_xticklabels([f\"{props[0]}\" for j, props in enumerate(proportion_combinations) if props[2] == p1_unlabeled],\n",
    "                       rotation=45)\n",
    "    ax.set_xlabel('Proportion of Type 1 in Positive Training Data')\n",
    "    ax.set_ylabel('Power')\n",
    "    ax.set_title(f'Power (prop_type1_unlabeled = {p1_unlabeled})')\n",
    "    ax.grid(True)\n",
    "\n",
    "    # Plot Proportions within predictions = 1\n",
    "    ax = axes[2, i]\n",
    "    ax.plot(range(len(prop_type1_preds_subset)), prop_type1_preds_subset, 'o-', label='Type 1 Inliers')\n",
    "    ax.plot(range(len(prop_type2_preds_subset)), prop_type2_preds_subset, 'o-', label='Type 2 Inliers')\n",
    "    ax.plot(range(len(prop_outliers_preds_subset)), prop_outliers_preds_subset, 'o-', label='Outliers')\n",
    "    ax.set_xticks(range(len(prop_type1_preds_subset)))\n",
    "    ax.set_xticklabels([f\"{props[0]}\" for j, props in enumerate(proportion_combinations) if props[2] == p1_unlabeled],\n",
    "                       rotation=45)\n",
    "    ax.set_xlabel('Proportion of Type 1 in Positive Training Data')\n",
    "    ax.set_ylabel('Proportion within Predictions = 1')\n",
    "    ax.set_title(f'Predictions = 1 (prop_type1_unlabeled = {p1_unlabeled})')\n",
    "    ax.grid(True)\n",
    "    ax.legend()\n",
    "\n",
    "plt.tight_layout()\n",
    "plt.show()"
   ]
  },
  {
   "cell_type": "code",
   "execution_count": null,
   "id": "760dff0d-ce00-4e31-a735-7f8ab17db1d9",
   "metadata": {},
   "outputs": [],
   "source": []
  },
  {
   "cell_type": "markdown",
   "id": "704bf801-5d5b-41f6-99ca-a30e339c24ec",
   "metadata": {},
   "source": [
    "### Conclusion\n",
    "1. When the proportion of type1 data is small in training data, then PU learning tends to regard inliers as negative in the unlabeled dataset\n",
    "2. The results depend heavily on the “fit” between the machine learning algorithm and the data. (Compared to the conformal inference experiment, it **regards every data as negative** if outliers are not so obvious and was't been standard scaled)|"
   ]
  },
  {
   "cell_type": "markdown",
   "id": "66318c72-e06c-48f3-9103-e1dc5d2d6137",
   "metadata": {},
   "source": [
    "#### Puzzle(solved):\n",
    "1. Why FDR is so high?\n",
    "   the data is almost the same in my previous experiment in the conformal inference cases. However, FDR here is very high.\n",
    "   \n",
    "**Possible Explannation**: the two-step PUL double the prediction error, since it first introduce one-class svm to identify some reliable negative data, and use it to train a binary classifier.(double error)"
   ]
  },
  {
   "cell_type": "code",
   "execution_count": null,
   "id": "cda8e9a2-04ce-4e40-a9bf-37a975ba2c85",
   "metadata": {},
   "outputs": [],
   "source": []
  },
  {
   "cell_type": "code",
   "execution_count": null,
   "id": "3d14c606-a1af-4917-b884-8b608a910c34",
   "metadata": {},
   "outputs": [],
   "source": []
  }
 ],
 "metadata": {
  "kernelspec": {
   "display_name": "Python 3 (ipykernel)",
   "language": "python",
   "name": "python3"
  },
  "language_info": {
   "codemirror_mode": {
    "name": "ipython",
    "version": 3
   },
   "file_extension": ".py",
   "mimetype": "text/x-python",
   "name": "python",
   "nbconvert_exporter": "python",
   "pygments_lexer": "ipython3",
   "version": "3.10.12"
  }
 },
 "nbformat": 4,
 "nbformat_minor": 5
}
